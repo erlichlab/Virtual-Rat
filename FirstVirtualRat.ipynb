{
 "cells": [
  {
   "cell_type": "markdown",
   "metadata": {},
   "source": [
    "# The very first Virtual Rat RNN"
   ]
  },
  {
   "cell_type": "code",
   "execution_count": 25,
   "metadata": {
    "collapsed": false
   },
   "outputs": [
    {
     "name": "stdout",
     "output_type": "stream",
     "text": [
      "The autoreload extension is already loaded. To reload it, use:\n",
      "  %reload_ext autoreload\n",
      "Loaded defaults from ~/.dbconf\n",
      "Z009 (12771, 6)\n"
     ]
    }
   ],
   "source": [
    "import numpy as np\n",
    "import matplotlib.pyplot as plt\n",
    "\n",
    "from RNN import FirstRNN\n",
    "from VirtualRatFunctions import *\n",
    "from RNN_solver import RNNsolver\n",
    "\n",
    "%matplotlib inline\n",
    "plt.rcParams['figure.figsize'] = (10.0, 8.0) # set default size of plots\n",
    "plt.rcParams['image.interpolation'] = 'nearest'\n",
    "plt.rcParams['image.cmap'] = 'gray'\n",
    "\n",
    "# auto-reloading external modules\n",
    "# see http://stackoverflow.com/questions/1907993/autoreload-of-modules-in-ipython\n",
    "%load_ext autoreload\n",
    "%autoreload 2\n",
    "\n",
    "allRatsData = getData(1)"
   ]
  },
  {
   "cell_type": "code",
   "execution_count": 26,
   "metadata": {
    "collapsed": false
   },
   "outputs": [],
   "source": [
    "rat = allRatsData[\"Z009\"]\n",
    "\n",
    "x = np.zeros((1, rat.shape[0], 3))\n",
    "y = np.zeros((1, rat.shape[0]))\n",
    "trueY = np.zeros((1, rat.shape[0]))\n",
    "\n",
    "x[0,:,:] = rat[:,:3]\n",
    "\n",
    "train_num = int(rat.shape[0] * 0.8)\n",
    "val_num = int(rat.shape[0] * 0.9)\n",
    "\n",
    "trainX = x[:,:train_num,:]\n",
    "valX = x[:,train_num:val_num,:]\n",
    "testX = x[:,val_num:,:]\n",
    "\n",
    "y[0,rat[:,3]>0] = 0\n",
    "y[0,rat[:,4]>0] = 1\n",
    "y[0,rat[:,5]>0] = 2\n",
    "\n",
    "trainY = y[:,:train_num]\n",
    "valY = y[:,train_num:val_num]\n",
    "testY = y[:,val_num:]\n",
    "\n",
    "trueY[0,:] = np.logical_not(np.bitwise_xor(rat[:,0],rat[:,1]))\n",
    "trainTrueY = trueY[:,:train_num]\n",
    "valTrueY = trueY[:,train_num:val_num]\n",
    "testTrueY = trueY[:,val_num:]"
   ]
  },
  {
   "cell_type": "code",
   "execution_count": 27,
   "metadata": {
    "collapsed": false
   },
   "outputs": [
    {
     "name": "stdout",
     "output_type": "stream",
     "text": [
      "(1, 10216, 3)\n",
      "(1, 10216)\n",
      "(1, 10216)\n"
     ]
    }
   ],
   "source": [
    "print trainX.shape\n",
    "print trainY.shape\n",
    "print trainTrueY.shape"
   ]
  },
  {
   "cell_type": "code",
   "execution_count": 28,
   "metadata": {
    "collapsed": false
   },
   "outputs": [
    {
     "name": "stdout",
     "output_type": "stream",
     "text": [
      "(Iteration 1 / 500) loss: 11585.272464\n",
      "(Iteration 11 / 500) loss: 10917.520294\n",
      "(Iteration 21 / 500) loss: 10694.526038\n",
      "(Iteration 31 / 500) loss: 10447.577304\n",
      "(Iteration 41 / 500) loss: 10183.022452\n",
      "(Iteration 51 / 500) loss: 9888.737544\n",
      "(Iteration 61 / 500) loss: 9654.211461\n",
      "(Iteration 71 / 500) loss: 9523.692076\n",
      "(Iteration 81 / 500) loss: 9461.033216\n",
      "(Iteration 91 / 500) loss: 9431.682286\n",
      "(Iteration 101 / 500) loss: 9417.365360\n",
      "(Iteration 111 / 500) loss: 9409.711456\n",
      "(Iteration 121 / 500) loss: 9405.032629\n",
      "(Iteration 131 / 500) loss: 9401.713967\n",
      "(Iteration 141 / 500) loss: 9399.047010\n",
      "(Iteration 151 / 500) loss: 9396.722741\n",
      "(Iteration 161 / 500) loss: 9394.610101\n",
      "(Iteration 171 / 500) loss: 9392.656310\n",
      "(Iteration 181 / 500) loss: 9390.840659\n",
      "(Iteration 191 / 500) loss: 9389.153659\n",
      "(Iteration 201 / 500) loss: 9387.588865\n",
      "(Iteration 211 / 500) loss: 9386.140514\n",
      "(Iteration 221 / 500) loss: 9384.803171\n",
      "(Iteration 231 / 500) loss: 9383.571537\n",
      "(Iteration 241 / 500) loss: 9382.439900\n",
      "(Iteration 251 / 500) loss: 9381.401500\n",
      "(Iteration 261 / 500) loss: 9380.448109\n",
      "(Iteration 271 / 500) loss: 9379.570026\n",
      "(Iteration 281 / 500) loss: 9378.756520\n",
      "(Iteration 291 / 500) loss: 9377.996505\n",
      "(Iteration 301 / 500) loss: 9377.279267\n",
      "(Iteration 311 / 500) loss: 9376.595026\n",
      "(Iteration 321 / 500) loss: 9375.935262\n",
      "(Iteration 331 / 500) loss: 9375.292807\n",
      "(Iteration 341 / 500) loss: 9374.661765\n",
      "(Iteration 351 / 500) loss: 9374.037337\n",
      "(Iteration 361 / 500) loss: 9373.415607\n",
      "(Iteration 371 / 500) loss: 9372.793355\n",
      "(Iteration 381 / 500) loss: 9372.167883\n",
      "(Iteration 391 / 500) loss: 9371.536896\n",
      "(Iteration 401 / 500) loss: 9370.898424\n",
      "(Iteration 411 / 500) loss: 9370.250764\n",
      "(Iteration 421 / 500) loss: 9369.592466\n",
      "(Iteration 431 / 500) loss: 9368.922319\n",
      "(Iteration 441 / 500) loss: 9368.239376\n",
      "(Iteration 451 / 500) loss: 9367.542957\n",
      "(Iteration 461 / 500) loss: 9366.832681\n",
      "(Iteration 471 / 500) loss: 9366.108473\n",
      "(Iteration 481 / 500) loss: 9365.370589\n",
      "(Iteration 491 / 500) loss: 9364.619607\n",
      "0.985904463587\n"
     ]
    }
   ],
   "source": [
    "RNN = FirstRNN(hidden_dim = 5)\n",
    "solver = RNNsolver(RNN, trainX, trainY,optim_config={\n",
    "                 'learning_rate': 1e-4,\n",
    "               }, num_epochs = 500,\n",
    "                   verbose = True)\n",
    "solver.train()\n",
    "choice, probs = RNN.predict(valX)\n",
    "acc = np.mean(choice == valTrueY)\n",
    "print acc\n"
   ]
  },
  {
   "cell_type": "code",
   "execution_count": 30,
   "metadata": {
    "collapsed": false
   },
   "outputs": [
    {
     "data": {
      "image/png": "[encoded data removed]",
      "text/plain": [
       "<matplotlib.figure.Figure at 0x10d276e50>"
      ]
     },
     "metadata": {},
     "output_type": "display_data"
    }
   ],
   "source": [
    "# Plot the training losses\n",
    "plt.plot(solver.loss_history)\n",
    "plt.xlabel('Iteration')\n",
    "plt.ylabel('Loss')\n",
    "plt.title('Training loss history')\n",
    "plt.show()"
   ]
  },
  {
   "cell_type": "code",
   "execution_count": 54,
   "metadata": {
    "collapsed": false
   },
   "outputs": [
    {
     "data": {
      "text/plain": [
       "array([[[ 0.45937354,  0.2270144 ,  0.31361206],\n",
       "        [ 0.53525942,  0.09592337,  0.36881721],\n",
       "        [ 0.08792081,  0.49400552,  0.41807367],\n",
       "        [ 0.48842023,  0.13397988,  0.37759989],\n",
       "        [ 0.50082922,  0.09726768,  0.4019031 ],\n",
       "        [ 0.08393924,  0.50298037,  0.41308039],\n",
       "        [ 0.48744941,  0.134522  ,  0.37802858],\n",
       "        [ 0.50068604,  0.09732306,  0.4019909 ],\n",
       "        [ 0.08393791,  0.50300276,  0.41305933],\n",
       "        [ 0.48744739,  0.13452027,  0.37803234]]])"
      ]
     },
     "execution_count": 54,
     "metadata": {},
     "output_type": "execute_result"
    }
   ],
   "source": [
    "probs[:,:10,:] #left, right, cpv"
   ]
  },
  {
   "cell_type": "code",
   "execution_count": 59,
   "metadata": {
    "collapsed": false
   },
   "outputs": [],
   "source": [
    "normalized_probs = np.zeros((probs.shape[0],probs.shape[1],probs.shape[2]-1))\n",
    "normalized_probs[:,:,0] = probs[:,:,0]/(probs[:,:,0] + probs[:,:,1])\n",
    "normalized_probs[:,:,1] = probs[:,:,1]/(probs[:,:,0] + probs[:,:,1])\n",
    "hit_rate = np.zeros(probs.shape[1])\n",
    "right = valTrueY[0,:] == 1\n",
    "left = valTrueY[0,:] == 0\n",
    "hit_rate[left] = normalized_probs[0,left,0]\n",
    "hit_rate[right] = normalized_probs[0,right,1] "
   ]
  },
  {
   "cell_type": "code",
   "execution_count": 87,
   "metadata": {
    "collapsed": false
   },
   "outputs": [],
   "source": [
    "switches = []\n",
    "pro_rule = 0\n",
    "for i in xrange(valX.shape[1]):\n",
    "    if valX[0,i,0] != pro_rule:\n",
    "        switches.append(i)\n",
    "        pro_rule = valX[0,i,0]\n",
    "pro_rules = valX[0,:,0]\n",
    "pro_prob = np.empty(probs.shape[1])\n",
    "anti_prob = np.empty(probs.shape[1])\n",
    "pro_prob[:] = np.NAN\n",
    "anti_prob[:] = np.NAN\n",
    "pro_rules = pro_rules.astype(bool)\n",
    "pro_prob = hit_rate[pro_rules]\n",
    "anti_prob = hit_rate[np.logical_not(pro_rules)]"
   ]
  },
  {
   "cell_type": "code",
   "execution_count": 95,
   "metadata": {
    "collapsed": false
   },
   "outputs": [
    {
     "data": {
      "image/png": "[encoded data removed]",
      "text/plain": [
       "<matplotlib.figure.Figure at 0x10ccc4310>"
      ]
     },
     "metadata": {},
     "output_type": "display_data"
    }
   ],
   "source": [
    "T = len(hit_rate)\n",
    "plt.plot(range(T), hit_rate,color='b')\n",
    "\n",
    "for i in xrange(len(switches)):\n",
    "    plt.axvline(x=switches[i], ymin=0, ymax = 1, linewidth=1, color='g')\n",
    "    \n",
    "plt.xlabel('Trials')\n",
    "plt.ylabel('Correct')\n",
    "plt.title('Correction rate')\n",
    "plt.show()"
   ]
  },
  {
   "cell_type": "code",
   "execution_count": 98,
   "metadata": {
    "collapsed": false
   },
   "outputs": [
    {
     "name": "stdout",
     "output_type": "stream",
     "text": [
      "b [-0.57399046 -0.4043636   0.27713463  0.49530268 -0.47808248]\n",
      "b_vocab [ 0.61053056 -0.71196127  0.10143089]\n",
      "h0 [[ 0.00627142 -0.00110094  0.00073081  0.00236279  0.00149439]]\n",
      "W_vocab [[ 1.64592993 -0.69519198  0.26689249]\n",
      " [ 0.11821652  0.3223567   0.55414885]\n",
      " [ 0.03130261  0.60196143 -0.35947996]\n",
      " [ 0.82315272 -0.21170416  0.57565111]\n",
      " [ 1.31447017 -1.49646246 -0.22108307]]\n",
      "Wh [[ 0.00339802 -0.19890399 -0.40019637  0.45099115 -0.51479059]\n",
      " [ 0.25485617  0.17271873  0.40619385 -0.92357361  0.52343309]\n",
      " [-0.09936055  0.39384839 -0.37835124  0.30662769 -0.1343925 ]\n",
      " [-0.27574641 -0.84603965 -0.32485515  0.69515032 -0.86458158]\n",
      " [ 0.06846359  0.29238799  0.11702012 -0.17983127  0.17374927]]\n",
      "Wx [[-1.87049866 -0.24745275 -0.06917471 -0.3710781   1.60905099]\n",
      " [ 1.83318925 -0.58023125 -0.50530213 -0.62609708 -1.90910864]\n",
      " [ 0.53789884 -0.06928987 -0.54814583  0.20211616 -0.25247484]]\n"
     ]
    }
   ],
   "source": [
    "for k in RNN.params.keys():\n",
    "    print k,RNN.params[k]"
   ]
  }
 ],
 "metadata": {
  "kernelspec": {
   "display_name": "Python 2",
   "language": "python",
   "name": "python2"
  },
  "language_info": {
   "codemirror_mode": {
    "name": "ipython",
    "version": 2
   },
   "file_extension": ".py",
   "mimetype": "text/x-python",
   "name": "python",
   "nbconvert_exporter": "python",
   "pygments_lexer": "ipython2",
   "version": "2.7.12"
  }
 },
 "nbformat": 4,
 "nbformat_minor": 0
}
