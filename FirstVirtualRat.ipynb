{
 "cells": [
  {
   "cell_type": "markdown",
   "metadata": {},
   "source": [
    "# The very first Virtual Rat RNN"
   ]
  },
  {
   "cell_type": "code",
   "execution_count": 41,
   "metadata": {
    "collapsed": false
   },
   "outputs": [
    {
     "name": "stdout",
     "output_type": "stream",
     "text": [
      "The autoreload extension is already loaded. To reload it, use:\n",
      "  %reload_ext autoreload\n",
      "Loaded defaults from ~/.dbconf\n",
      "Z009 (12771, 6)\n",
      "A099 (23265, 6)\n",
      "A109 (42333, 6)\n",
      "Z014 (37888, 6)\n",
      "Z010 (55682, 6)\n",
      "A110 (27157, 6)\n",
      "A112 (15870, 6)\n",
      "A111 (56784, 6)\n",
      "Z006 (40734, 6)\n",
      "A117 (20919, 6)\n",
      "A119 (29117, 6)\n",
      "A121 (29079, 6)\n",
      "A120 (18619, 6)\n",
      "A106 (92159, 6)\n",
      "A098 (68163, 6)\n"
     ]
    }
   ],
   "source": [
    "import numpy as np\n",
    "from RNN import FirstRNN\n",
    "from VirtualRatFunctions import *\n",
    "from RNN_solver import RNNsolver\n",
    "# auto-reloading external modules\n",
    "# see http://stackoverflow.com/questions/1907993/autoreload-of-modules-in-ipython\n",
    "%load_ext autoreload\n",
    "%autoreload 2\n",
    "\n",
    "allRatsData = getData()"
   ]
  },
  {
   "cell_type": "code",
   "execution_count": 44,
   "metadata": {
    "collapsed": false
   },
   "outputs": [],
   "source": [
    "rat = allRatsData[\"Z009\"]\n",
    "\n",
    "x = np.zeros((1, rat.shape[0], 3))\n",
    "y = np.zeros((1, rat.shape[0]))\n",
    "trueY = np.zeros((1, rat.shape[0]))\n",
    "\n",
    "x[0,:,:] = rat[:,:3]\n",
    "\n",
    "train_num = int(rat.shape[0] * 0.8)\n",
    "val_num = int(rat.shape[0] * 0.9)\n",
    "\n",
    "trainX = x[:,:train_num,:]\n",
    "valX = x[:,train_num:val_num,:]\n",
    "testX = x[:,val_num:,:]\n",
    "\n",
    "y[0,rat[:,3]>0] = 0\n",
    "y[0,rat[:,4]>0] = 1\n",
    "y[0,rat[:,5]>0] = 2\n",
    "\n",
    "trainY = y[:,:train_num]\n",
    "valY = y[:,train_num:val_num]\n",
    "testY = y[:,val_num:]\n",
    "\n",
    "trueY[0,:] = np.logical_not(np.bitwise_xor(rat[:,0],rat[:,1]))\n",
    "trainTrueY = trueY[:,:train_num]\n",
    "valTrueY = trueY[:,train_num:val_num]\n",
    "testTrueY = trueY[:,val_num:]"
   ]
  },
  {
   "cell_type": "code",
   "execution_count": 55,
   "metadata": {
    "collapsed": false
   },
   "outputs": [
    {
     "name": "stdout",
     "output_type": "stream",
     "text": [
      "(Iteration 1 / 100) loss: 11978.620639\n",
      "(Iteration 2 / 100) loss: 11886.505695\n",
      "(Iteration 3 / 100) loss: 11812.239018\n",
      "(Iteration 4 / 100) loss: 11751.622762\n",
      "(Iteration 5 / 100) loss: 11701.443545\n",
      "(Iteration 6 / 100) loss: 11659.266663\n",
      "(Iteration 7 / 100) loss: 11623.258311\n",
      "(Iteration 8 / 100) loss: 11592.040483\n",
      "(Iteration 9 / 100) loss: 11564.577542\n",
      "(Iteration 10 / 100) loss: 11540.089133\n",
      "(Iteration 11 / 100) loss: 11517.984870\n",
      "(Iteration 12 / 100) loss: 11497.815584\n",
      "(Iteration 13 / 100) loss: 11479.237281\n",
      "(Iteration 14 / 100) loss: 11461.984554\n",
      "(Iteration 15 / 100) loss: 11445.850757\n",
      "(Iteration 16 / 100) loss: 11430.673644\n",
      "(Iteration 17 / 100) loss: 11416.324580\n",
      "(Iteration 18 / 100) loss: 11402.700493\n",
      "(Iteration 19 / 100) loss: 11389.717949\n",
      "(Iteration 20 / 100) loss: 11377.308670\n",
      "(Iteration 21 / 100) loss: 11365.416199\n",
      "(Iteration 22 / 100) loss: 11353.993264\n",
      "(Iteration 23 / 100) loss: 11342.999958\n",
      "(Iteration 24 / 100) loss: 11332.402170\n",
      "(Iteration 25 / 100) loss: 11322.170442\n",
      "(Iteration 26 / 100) loss: 11312.279099\n",
      "(Iteration 27 / 100) loss: 11302.705568\n",
      "(Iteration 28 / 100) loss: 11293.429803\n",
      "(Iteration 29 / 100) loss: 11284.433878\n",
      "(Iteration 30 / 100) loss: 11275.701639\n",
      "(Iteration 31 / 100) loss: 11267.218435\n",
      "(Iteration 32 / 100) loss: 11258.970931\n",
      "(Iteration 33 / 100) loss: 11250.946829\n",
      "(Iteration 34 / 100) loss: 11243.134806\n",
      "(Iteration 35 / 100) loss: 11235.524389\n",
      "(Iteration 36 / 100) loss: 11228.105876\n",
      "(Iteration 37 / 100) loss: 11220.870189\n",
      "(Iteration 38 / 100) loss: 11213.808806\n",
      "(Iteration 39 / 100) loss: 11206.913778\n",
      "(Iteration 40 / 100) loss: 11200.177633\n",
      "(Iteration 41 / 100) loss: 11193.593332\n",
      "(Iteration 42 / 100) loss: 11187.154213\n",
      "(Iteration 43 / 100) loss: 11180.853988\n",
      "(Iteration 44 / 100) loss: 11174.686727\n",
      "(Iteration 45 / 100) loss: 11168.646823\n",
      "(Iteration 46 / 100) loss: 11162.728908\n",
      "(Iteration 47 / 100) loss: 11156.927921\n",
      "(Iteration 48 / 100) loss: 11151.239044\n",
      "(Iteration 49 / 100) loss: 11145.657731\n",
      "(Iteration 50 / 100) loss: 11140.179616\n",
      "(Iteration 51 / 100) loss: 11134.800539\n",
      "(Iteration 52 / 100) loss: 11129.516574\n",
      "(Iteration 53 / 100) loss: 11124.323938\n",
      "(Iteration 54 / 100) loss: 11119.219081\n",
      "(Iteration 55 / 100) loss: 11114.198566\n",
      "(Iteration 56 / 100) loss: 11109.259111\n",
      "(Iteration 57 / 100) loss: 11104.397644\n",
      "(Iteration 58 / 100) loss: 11099.611172\n",
      "(Iteration 59 / 100) loss: 11094.896862\n",
      "(Iteration 60 / 100) loss: 11090.251999\n",
      "(Iteration 61 / 100) loss: 11085.673983\n",
      "(Iteration 62 / 100) loss: 11081.160347\n",
      "(Iteration 63 / 100) loss: 11076.708717\n",
      "(Iteration 64 / 100) loss: 11072.316856\n",
      "(Iteration 65 / 100) loss: 11067.982571\n",
      "(Iteration 66 / 100) loss: 11063.703789\n",
      "(Iteration 67 / 100) loss: 11059.478535\n",
      "(Iteration 68 / 100) loss: 11055.304919\n",
      "(Iteration 69 / 100) loss: 11051.181101\n",
      "(Iteration 70 / 100) loss: 11047.105341\n",
      "(Iteration 71 / 100) loss: 11043.075975\n",
      "(Iteration 72 / 100) loss: 11039.091387\n",
      "(Iteration 73 / 100) loss: 11035.150049\n",
      "(Iteration 74 / 100) loss: 11031.250507\n",
      "(Iteration 75 / 100) loss: 11027.391325\n",
      "(Iteration 76 / 100) loss: 11023.571164\n",
      "(Iteration 77 / 100) loss: 11019.788714\n",
      "(Iteration 78 / 100) loss: 11016.042719\n",
      "(Iteration 79 / 100) loss: 11012.332001\n",
      "(Iteration 80 / 100) loss: 11008.655394\n",
      "(Iteration 81 / 100) loss: 11005.011800\n",
      "(Iteration 82 / 100) loss: 11001.400160\n",
      "(Iteration 83 / 100) loss: 10997.819436\n",
      "(Iteration 84 / 100) loss: 10994.268677\n",
      "(Iteration 85 / 100) loss: 10990.746894\n",
      "(Iteration 86 / 100) loss: 10987.253216\n",
      "(Iteration 87 / 100) loss: 10983.786755\n",
      "(Iteration 88 / 100) loss: 10980.346642\n",
      "(Iteration 89 / 100) loss: 10976.932102\n",
      "(Iteration 90 / 100) loss: 10973.542327\n",
      "(Iteration 91 / 100) loss: 10970.176573\n",
      "(Iteration 92 / 100) loss: 10966.834123\n",
      "(Iteration 93 / 100) loss: 10963.514272\n",
      "(Iteration 94 / 100) loss: 10960.216339\n",
      "(Iteration 95 / 100) loss: 10956.939670\n",
      "(Iteration 96 / 100) loss: 10953.683667\n",
      "(Iteration 97 / 100) loss: 10950.447680\n",
      "(Iteration 98 / 100) loss: 10947.231156\n",
      "(Iteration 99 / 100) loss: 10944.033516\n",
      "(Iteration 100 / 100) loss: 10940.854224\n"
     ]
    }
   ],
   "source": [
    "RNN = FirstRNN()\n",
    "solver = RNNsolver(RNN, trainX, trainY,optim_config={\n",
    "             'learning_rate': 1e-6,\n",
    "           })\n",
    "solver.train()"
   ]
  },
  {
   "cell_type": "code",
   "execution_count": 56,
   "metadata": {
    "collapsed": false
   },
   "outputs": [
    {
     "name": "stdout",
     "output_type": "stream",
     "text": [
      "0.549725920125\n"
     ]
    }
   ],
   "source": [
    "out = RNN.predict(valX)\n",
    "acc = np.mean(out == valTrueY)\n",
    "print acc"
   ]
  }
 ],
 "metadata": {
  "kernelspec": {
   "display_name": "Python 2",
   "language": "python",
   "name": "python2"
  },
  "language_info": {
   "codemirror_mode": {
    "name": "ipython",
    "version": 2
   },
   "file_extension": ".py",
   "mimetype": "text/x-python",
   "name": "python",
   "nbconvert_exporter": "python",
   "pygments_lexer": "ipython2",
   "version": "2.7.12"
  }
 },
 "nbformat": 4,
 "nbformat_minor": 0
}
