{
 "cells": [
  {
   "cell_type": "markdown",
   "metadata": {},
   "source": [
    "# The very first Virtual Rat RNN"
   ]
  },
  {
   "cell_type": "code",
   "execution_count": 1,
   "metadata": {
    "collapsed": false
   },
   "outputs": [
    {
     "name": "stdout",
     "output_type": "stream",
     "text": [
      "MySQLdb not found\n",
      "Using mysql.connector\n",
      "Loaded defaults from ~/.dbconf\n",
      "Z009 (12771, 6)\n",
      "A099 (23265, 6)\n",
      "A109 (42333, 6)\n",
      "Z014 (37888, 6)\n",
      "Z010 (55682, 6)\n",
      "A110 (27157, 6)\n",
      "A112 (15870, 6)\n",
      "A111 (56784, 6)\n",
      "Z006 (40734, 6)\n",
      "A117 (20919, 6)\n",
      "A119 (29117, 6)\n",
      "A121 (29079, 6)\n",
      "A120 (18619, 6)\n",
      "A106 (92159, 6)\n",
      "A098 (68163, 6)\n"
     ]
    }
   ],
   "source": [
    "import numpy as np\n",
    "from RNN import FirstRNN\n",
    "from VirtualRatFunctions import *\n",
    "\n",
    "# auto-reloading external modules\n",
    "# see http://stackoverflow.com/questions/1907993/autoreload-of-modules-in-ipython\n",
    "%load_ext autoreload\n",
    "%autoreload 2\n",
    "\n",
    "allRatsData = getData()"
   ]
  },
  {
   "cell_type": "code",
   "execution_count": 11,
   "metadata": {
    "collapsed": false
   },
   "outputs": [],
   "source": [
    "rat = allRatsData[allRatsData.keys()[0]]\n",
    "x = np.zeros((1, rat.shape[0], 3))\n",
    "y = np.zeros((1, rat.shape[0]))\n",
    "x[0,:,:] = rat[:,:3]\n",
    "y[0,rat[:,3]>0] = 0\n",
    "y[0,rat[:,4]>0] = 1\n",
    "y[0,rat[:,5]>0] = 2"
   ]
  },
  {
   "cell_type": "code",
   "execution_count": 19,
   "metadata": {
    "collapsed": false
   },
   "outputs": [],
   "source": [
    "RNN = FirstRNN()\n",
    "loss, grads = RNN.loss(x,y)"
   ]
  },
  {
   "cell_type": "code",
   "execution_count": 26,
   "metadata": {
    "collapsed": false
   },
   "outputs": [
    {
     "name": "stdout",
     "output_type": "stream",
     "text": [
      "[[1 2 2]]\n"
     ]
    }
   ],
   "source": [
    "testX = np.array([[1,1,0]])\n",
    "captions = RNN.sample(testX)\n",
    "print captions"
   ]
  }
 ],
 "metadata": {
  "kernelspec": {
   "display_name": "Python 2",
   "language": "python",
   "name": "python2"
  },
  "language_info": {
   "codemirror_mode": {
    "name": "ipython",
    "version": 2
   },
   "file_extension": ".py",
   "mimetype": "text/x-python",
   "name": "python",
   "nbconvert_exporter": "python",
   "pygments_lexer": "ipython2",
   "version": "2.7.12"
  }
 },
 "nbformat": 4,
 "nbformat_minor": 0
}
