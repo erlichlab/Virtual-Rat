{
 "cells": [
  {
   "cell_type": "markdown",
   "metadata": {},
   "source": [
    "# Switch cost vs. block size"
   ]
  },
  {
   "cell_type": "code",
   "execution_count": 1,
   "metadata": {
    "collapsed": false
   },
   "outputs": [],
   "source": [
    "import minpy.numpy as np\n",
    "import cPickle\n",
    "import matplotlib.pyplot as plt\n",
    "import minpy\n",
    "minpy.set_global_policy('only_numpy')\n",
    "\n",
    "from VirtualRatModel import VirtualRatModel\n",
    "from VirtualRatSolver import VirtualRatSolver\n",
    "from VirtualRatBox import VirtualRatBox\n",
    "from VirtualRat import VirtualRat\n",
    "from VirtualRatFunctions import *\n",
    "\n",
    "%matplotlib inline\n",
    "plt.rcParams['figure.figsize'] = (8.0, 6.0) # set default size of plots\n",
    "plt.rcParams['image.interpolation'] = 'nearest'\n",
    "plt.rcParams['image.cmap'] = 'gray'\n",
    "\n",
    "# auto-reloading external modules\n",
    "%load_ext autoreload\n",
    "%autoreload 2"
   ]
  },
  {
   "cell_type": "code",
   "execution_count": 2,
   "metadata": {
    "collapsed": true
   },
   "outputs": [],
   "source": [
    "epoch_per_loop = 100\n",
    "num_loop = 101\n",
    "threshold_edge = 0.85\n",
    "block_lengths = [5,10,15,20,30,40,50]\n",
    "all_switch_cost_list = []\n",
    "for i in range(len(block_lengths)):\n",
    "    block_length = block_lengths[i]\n",
    "    pro_block_matrix, pro_switch_matrix, anti_block_matrix, anti_switch_matrix \\\n",
    "        = np.zeros((0,num_loop)),np.zeros((0,num_loop)),np.zeros((0,num_loop)),np.zeros((0,num_loop))\n",
    "    for i in range(10,110,10):\n",
    "        try:\n",
    "            matrices = load_weights(\"BlockTime/BlockTime-\"+str(block_length)+\"-\"+str(i)+\".pkl\")\n",
    "        except IOError:\n",
    "            continue\n",
    "        pro_block, pro_switch, anti_block, anti_switch = matrices\n",
    "        pro_block_matrix = np.append(pro_block_matrix, pro_block,axis=0)\n",
    "        anti_block_matrix = np.append(anti_block_matrix, anti_block,axis=0)\n",
    "        pro_switch_matrix = np.append(pro_switch_matrix, pro_switch,axis=0)\n",
    "        anti_switch_matrix = np.append(anti_switch_matrix, anti_switch,axis=0)\n",
    "\n",
    "    pro_switch_cost_matrix = pro_switch_matrix - pro_block_matrix\n",
    "    anti_switch_cost_matrix = anti_switch_matrix - anti_block_matrix\n",
    "    switch_cost_matrix = (pro_switch_cost_matrix + anti_switch_cost_matrix)/2\n",
    "\n",
    "    large_enough = np.logical_and(pro_block_matrix > threshold_edge, anti_block_matrix > threshold_edge)\n",
    "    time_steps = []\n",
    "\n",
    "    switch_cost = []\n",
    "    for i in range(large_enough.shape[0]):\n",
    "        for j in range(large_enough.shape[1]):\n",
    "            if large_enough[i,j]:\n",
    "                switch_cost.append(switch_cost_matrix[i,j])\n",
    "                break\n",
    "    switch_cost = np.array(switch_cost)\n",
    "    all_switch_cost_list.append(switch_cost)\n",
    "all_switch_cost = list2np(all_switch_cost_list)"
   ]
  },
  {
   "cell_type": "code",
   "execution_count": 3,
   "metadata": {
    "collapsed": false
   },
   "outputs": [
    {
     "data": {
      "image/png": "[encoded data removed]",
      "text/plain": [
       "<matplotlib.figure.Figure at 0x10440c690>"
      ]
     },
     "metadata": {},
     "output_type": "display_data"
    }
   ],
   "source": [
    "switch_cost_vs_block_length(block_lengths,switch_costs=all_switch_cost, exclude = True, individual = False, filename = \"figures/Block.pdf\")"
   ]
  }
 ],
 "metadata": {
  "kernelspec": {
   "display_name": "Python 2",
   "language": "python",
   "name": "python2"
  },
  "language_info": {
   "codemirror_mode": {
    "name": "ipython",
    "version": 2
   },
   "file_extension": ".py",
   "mimetype": "text/x-python",
   "name": "python",
   "nbconvert_exporter": "python",
   "pygments_lexer": "ipython2",
   "version": "2.7.11"
  }
 },
 "nbformat": 4,
 "nbformat_minor": 1
}
