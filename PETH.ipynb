{
 "cells": [
  {
   "cell_type": "markdown",
   "metadata": {},
   "source": [
    "# Observing RNN PSTH\n",
    "This notebook does similar thing as VirtualRat.ipynb by loading weights and testing performance.\n",
    "The purporse of this notebook is to pick sample PSTH from RNNs"
   ]
  },
  {
   "cell_type": "code",
   "execution_count": null,
   "metadata": {
    "collapsed": false
   },
   "outputs": [],
   "source": [
    "import numpy as npp\n",
    "import minpy.numpy as np\n",
    "import matplotlib.pyplot as plt\n",
    "import minpy\n",
    "minpy.set_global_policy('only_numpy')\n",
    "\n",
    "from VirtualRatModel import VirtualRatModel\n",
    "from VirtualRatSolver import VirtualRatSolver\n",
    "from VirtualRatBox import VirtualRatBox\n",
    "from VirtualRat import VirtualRat\n",
    "from dataProcessFunctions import *\n",
    "\n",
    "%matplotlib inline\n",
    "plt.rcParams['figure.figsize'] = (8.0, 6.0) # set default size of plots\n",
    "plt.rcParams['image.interpolation'] = 'nearest'\n",
    "plt.rcParams['image.cmap'] = 'gray'\n",
    "\n",
    "# auto-reloading external modules\n",
    "%load_ext autoreload\n",
    "%autoreload 2"
   ]
  },
  {
   "cell_type": "code",
   "execution_count": null,
   "metadata": {
    "collapsed": false,
    "scrolled": true
   },
   "outputs": [],
   "source": [
    "which_to_choose = load_weights(\"time_steps_for_3d-0.85.pkl\")\n",
    "rats = []\n",
    "trial_window = 3\n",
    "\n",
    "for i in range(len(which_to_choose)):\n",
    "    ratname = \"VirtualRat\"+str(which_to_choose[i][0])\n",
    "    try:\n",
    "        loaded_params = load_weights(\"/scratch/xl1066/VirtualRat/publication/TrainingTime/trainedTrainingTime-\"+\\\n",
    "                                     str(which_to_choose[i][0])+\"-\"+str(which_to_choose[i][1]*100)+\".pkl\")\n",
    "        print ratname\n",
    "    except IOError:\n",
    "        continue\n",
    "    np.random.seed(which_to_choose[i][0])\n",
    "    npp.random.seed(which_to_choose[i][0])\n",
    "    box = VirtualRatBox(mode=\"alternative\",length=1000,block_size=30)\n",
    "    test_X, test_y = box.X, box.y\n",
    "    model = VirtualRatModel()\n",
    "    rat = VirtualRat(model,ratname = ratname, trial_window = trial_window)\n",
    "    rats.append(rat)\n",
    "    solver = VirtualRatSolver(model, box) # Dummmy solver in order to load weights.\n",
    "    np.random.seed(which_to_choose[i][0])\n",
    "    npp.random.seed(which_to_choose[i][0])\n",
    "    solver.init()\n",
    "    solver.load_params(loaded_params)\n",
    "    probs = rat.predict(test_X, test_y)\n",
    "    draw_3d(rat.p2a_prob*100, rat.a2p_prob*100, trial_window = trial_window, fixed_size= False)\n",
    "    rat.compute_PETH_ROC()\n",
    "    rat.add_prediction_history()"
   ]
  },
  {
   "cell_type": "code",
   "execution_count": null,
   "metadata": {
    "collapsed": false,
    "scrolled": false
   },
   "outputs": [],
   "source": [
    "PETH(rats[-3],switch=False, filename=\"PETH_block.pkl\", legend = False)"
   ]
  }
 ],
 "metadata": {
  "kernelspec": {
   "display_name": "Python 2",
   "language": "python",
   "name": "python2"
  },
  "language_info": {
   "codemirror_mode": {
    "name": "ipython",
    "version": 2
   },
   "file_extension": ".py",
   "mimetype": "text/x-python",
   "name": "python",
   "nbconvert_exporter": "python",
   "pygments_lexer": "ipython2",
   "version": "2.7.11"
  }
 },
 "nbformat": 4,
 "nbformat_minor": 1
}
